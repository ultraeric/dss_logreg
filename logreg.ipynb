{
 "cells": [
  {
   "cell_type": "code",
   "execution_count": null,
   "metadata": {
    "collapsed": true
   },
   "outputs": [],
   "source": [
    "import numpy as np\n",
    "import datasets.datasets as datasets\n",
    "\n",
    "def get_patient_class(patient_data):\n",
    "    return 1-1e-8 if patient_data[-1] == 4 else 1e-8\n",
    "\n",
    "def get_patient_data(patient_data):\n",
    "    return patient_data[:-1]\n",
    "\n",
    "def perform_test(patient_data, parameters):\n",
    "    sum = 0\n",
    "    for i in range(len(parameters)-1):\n",
    "        sum += patient_data[i] * parameters[i]\n",
    "    return 1 / (1 + np.exp(parameters[-1])[0] * np.exp([sum])[0])\n",
    "\n",
    "def calc_precision_recall(predicted, actual):\n",
    "    tp = 0\n",
    "    fp = 0\n",
    "    fn = 0\n",
    "    for i in range(len(predicted)):\n",
    "        if actual[i] > 0.5:\n",
    "            if predicted[i] > 0.5:\n",
    "                tp += 1\n",
    "            else:\n",
    "                fn += 1\n",
    "        elif predicted[i] > 0.5:\n",
    "            fp += 1\n",
    "    precision = tp / (tp + fp)\n",
    "    recall = tp / (tp + fn)\n",
    "    return precision, recall\n",
    "\n",
    "def calc_f1(predicted, actual):\n",
    "    precision, recall = calc_precision_recall(predicted, actual)\n",
    "    return 2 * (precision * recall) / (precision + recall)\n",
    "\n",
    "data = list(datasets.cancer_data_gen())\n",
    "train_data, test_data = data[:550], data[550:]"
   ]
  },
  {
   "cell_type": "markdown",
   "metadata": {},
   "source": [
    "<h3>Data Labels</h3>\n",
    "1. Clump Thickness\n",
    "2. Uniformity of Cell Size\n",
    "3. Uniformity of Cell Shape\n",
    "4. Marginal Adhesion\n",
    "5. Single Epithelial Cell Size\n",
    "6. Bare Nuclei\n",
    "7. Bland Chromatin\n",
    "8. Normal Nucleoli \n",
    "9. Mitoses"
   ]
  },
  {
   "cell_type": "code",
   "execution_count": null,
   "metadata": {
    "collapsed": true
   },
   "outputs": [],
   "source": [
    "# Load in the data\n",
    "x, y = np.zeros([550,10]), np.zeros([550, 1])\n",
    "for i in range(550):\n",
    "    x[i] = get_patient_data(train_data[i]) + [1]\n",
    "    y[i] = get_patient_class(train_data[i])\n"
   ]
  },
  {
   "cell_type": "code",
   "execution_count": null,
   "metadata": {
    "collapsed": true
   },
   "outputs": [],
   "source": [
    "# Perform kernel transformation\n",
    "z = np.log((1 / y) - 1)\n",
    "# Perform linear regression\n",
    "parameters = np.linalg.inv(x.T.dot(x)).dot(x.T).dot(z)"
   ]
  },
  {
   "cell_type": "code",
   "execution_count": null,
   "metadata": {},
   "outputs": [],
   "source": [
    "test_truths = [get_patient_class(patient_data) for patient_data in test_data]\n",
    "test_predictions = [perform_test(patient_data, parameters) for patient_data in test_data]\n",
    "print(calc_f1(test_predictions, test_truths))\n",
    "print(calc_precision_recall(test_predictions, test_truths))"
   ]
  },
  {
   "cell_type": "code",
   "execution_count": null,
   "metadata": {
    "collapsed": true
   },
   "outputs": [],
   "source": []
  }
 ],
 "metadata": {
  "kernelspec": {
   "display_name": "Python 3",
   "language": "python",
   "name": "python3"
  },
  "language_info": {
   "codemirror_mode": {
    "name": "ipython",
    "version": 3
   },
   "file_extension": ".py",
   "mimetype": "text/x-python",
   "name": "python",
   "nbconvert_exporter": "python",
   "pygments_lexer": "ipython3",
   "version": "3.6.3"
  }
 },
 "nbformat": 4,
 "nbformat_minor": 2
}
